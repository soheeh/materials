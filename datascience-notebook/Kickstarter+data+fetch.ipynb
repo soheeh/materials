{
 "cells": [
  {
   "cell_type": "code",
   "execution_count": 17,
   "metadata": {},
   "outputs": [
    {
     "data": {
      "text/plain": [
       "'https://s3.amazonaws.com/weruns/forfun/Kickstarter/Kickstarter_2017-10-15T10_20_38_271Z.zip'"
      ]
     },
     "execution_count": 17,
     "metadata": {},
     "output_type": "execute_result"
    }
   ],
   "source": [
    "#References:\n",
    "#https://stackoverflow.com/questions/185936/how-to-delete-the-contents-of-a-folder-in-python\n",
    "#http://www.markhneedham.com/blog/2015/02/15/pythonscikit-learn-calculating-tfidf-on-how-i-met-your-mother-transcripts/\n",
    "    \n",
    "from bs4 import BeautifulSoup\n",
    "import requests\n",
    "import re\n",
    "\n",
    "kick_response = requests.get(\"https://webrobots.io/kickstarter-datasets/\")\n",
    "t = kick_response.text\n",
    "soup = BeautifulSoup(t, 'html.parser')\n",
    "\n",
    "link = re.findall('https://s3.amazonaws.com/weruns/forfun/Kickstarter.*\\.zip', t)\n",
    "\n",
    "zipfiles = []\n",
    "for x in link:\n",
    "    if x.find('JSON')!= 139:\n",
    "        zipfiles.append(x[117:208])\n",
    "\n",
    "#Picking up one zip file for running the analysis\n",
    "zipurl = zipfiles[1]\n",
    "zipurl"
   ]
  },
  {
   "cell_type": "code",
   "execution_count": 18,
   "metadata": {},
   "outputs": [],
   "source": [
    "import requests, zipfile, io\n",
    "import glob\n",
    "import pandas as pd\n",
    "import os, shutil\n",
    "\n",
    "# Create own path\n",
    "path ='tmp'\n",
    "\n",
    "#Combine all unzipped csv into one pandas dataframe\n",
    "df = pd.DataFrame()\n",
    "lst = []\n",
    "\n",
    "#This loop can be used for extracting files from all the URLs\n",
    "\n",
    "req = requests.get(zipurl)\n",
    "zip_ = zipfile.ZipFile(io.BytesIO(req.content))\n",
    "zip_.extractall(\"tmp\") #note this folder needs to be created on the root \n",
    "\n",
    "Files = glob.glob(path + \"/*.csv\")\n",
    "for file in Files:\n",
    "    df = pd.read_csv(file,index_col=None, header=0)\n",
    "    lst.append(df)\n",
    "\n",
    "#Deleting unzipped files\n",
    "for the_file in os.listdir(path):\n",
    "    file_path = os.path.join(path, the_file)\n",
    "    try:\n",
    "        if os.path.isfile(file_path):\n",
    "            os.unlink(file_path)\n",
    "    except Exception as e:\n",
    "        print(e)\n",
    "\n",
    "df = pd.concat(lst)"
   ]
  },
  {
   "cell_type": "code",
   "execution_count": null,
   "metadata": {},
   "outputs": [],
   "source": [
    "# For concatenating data in all the 25 zips\n",
    "\n",
    "#import requests, zipfile, io\n",
    "#import glob\n",
    "#import pandas as pd\n",
    "#import os, shutil\n",
    "\n",
    "# Create own path\n",
    "#path ='tmp/stuff'\n",
    "\n",
    "\n",
    "#Combine all unzipped csv into one dataframe\n",
    "#df = pd.DataFrame()\n",
    "#lst = []\n",
    "\n",
    "#This loop can be used for extracting files from all the URLs (obviously the indentation needs to be handled)\n",
    "#for zipurl in zipfiles: \n",
    "#    req = requests.get(zipurl)\n",
    "#    zip_ = zipfile.ZipFile(io.BytesIO(req.content))\n",
    "#    zip_.extractall(\"tmp/stuff\")\n",
    "\n",
    "#    Files = glob.glob(path + \"/*.csv\")\n",
    "#    for file in Files:\n",
    "#        df = pd.read_csv(file,index_col=None, header=0)\n",
    "#        lst.append(df)\n",
    "\n",
    "    #Deleting unzipped files\n",
    "#    for the_file in os.listdir(path):\n",
    "#        file_path = os.path.join(path, the_file)\n",
    "#        try:\n",
    "#            if os.path.isfile(file_path):\n",
    "#                os.unlink(file_path)\n",
    "#        except Exception as e:\n",
    "#            print(e)\n",
    "\n",
    "#df = pd.concat(lst)"
   ]
  },
  {
   "cell_type": "code",
   "execution_count": 19,
   "metadata": {},
   "outputs": [],
   "source": [
    "#Standardizing/cleaning the data before analysis\n",
    "regex = re.compile('[^a-zA-Z ]')\n",
    "regex2= re.compile('\\s+')\n",
    "\n",
    "df['name_new'] = df['name'].apply(lambda x: regex.sub('', str(x).lower()))\n",
    "df['name_new'] = df['name_new'].apply(lambda x: regex2.sub(' ', str(x).lower()))"
   ]
  },
  {
   "cell_type": "code",
   "execution_count": 20,
   "metadata": {},
   "outputs": [
    {
     "name": "stdout",
     "output_type": "stream",
     "text": [
      "fantasy music   0.314881503330133\n",
      "fantasy music video 0.314881503330133\n",
      "melinehs        0.314881503330133\n",
      "melinehs rock   0.314881503330133\n",
      "melinehs rock roll 0.314881503330133\n",
      "roll fantasy music 0.314881503330133\n",
      "rock roll fantasy 0.30447758318984997\n",
      "roll fantasy    0.30447758318984997\n",
      "rock roll       0.23333510737331936\n",
      "roll            0.21136601805975733\n",
      "rock            0.17842266974379709\n",
      "fantasy         0.16789327637420143\n",
      "music video     0.1587579683542306\n",
      "video           0.14088482495731233\n",
      "music           0.12445216816242695\n"
     ]
    }
   ],
   "source": [
    "from sklearn.feature_extraction.text import TfidfVectorizer\n",
    "\n",
    "#Specifying the options; analysing two word phrases\n",
    "tf = TfidfVectorizer(analyzer='word', ngram_range=(1,3), min_df = 0, stop_words = 'english')\n",
    "\n",
    "tfidf_matrix =  tf.fit_transform(df['name_new'])\n",
    "feature_names = tf.get_feature_names() \n",
    "\n",
    "#FYI: kickstarter has initiative data\n",
    "dens = tfidf_matrix.todense()\n",
    "initiative = dens[0].tolist()[0]\n",
    "phrase_scores = [pair for pair in zip(range(0, len(initiative)), initiative) if pair[1] > 0]\n",
    "\n",
    "#Display the weights/scores of the two word phrases\n",
    "sort_phrase_scores = sorted(phrase_scores, key=lambda t: t[1] * -1)\n",
    "for phrase, score in [(feature_names[word_id], score) for (word_id, score) in sort_phrase_scores][:15]:\n",
    "   print('{0: <15} {1}'.format(phrase, score))\n",
    " "
   ]
  }
 ],
 "metadata": {
  "anaconda-cloud": {},
  "kernelspec": {
   "display_name": "Python [conda root]",
   "language": "python",
   "name": "conda-root-py"
  },
  "language_info": {
   "codemirror_mode": {
    "name": "ipython",
    "version": 3
   },
   "file_extension": ".py",
   "mimetype": "text/x-python",
   "name": "python",
   "nbconvert_exporter": "python",
   "pygments_lexer": "ipython3",
   "version": "3.6.2"
  }
 },
 "nbformat": 4,
 "nbformat_minor": 2
}
